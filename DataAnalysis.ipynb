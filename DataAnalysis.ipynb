{
  "nbformat": 4,
  "nbformat_minor": 0,
  "metadata": {
    "colab": {
      "name": "DataAnalysis.ipynb",
      "provenance": []
    },
    "kernelspec": {
      "name": "python3",
      "display_name": "Python 3"
    },
    "language_info": {
      "name": "python"
    }
  },
  "cells": [
    {
      "cell_type": "code",
      "metadata": {
        "id": "IbEzuJ6F8dO-"
      },
      "source": [
        "import pandas as pd\n",
        "import numpy as np\n",
        "import missingno as msno\n",
        "\n",
        "import warnings \n",
        "warnings.filterwarnings(\"ignore\")\n",
        "import seaborn as sns\n",
        "\n",
        "from pandas.plotting import parallel_coordinates"
      ],
      "execution_count": 154,
      "outputs": []
    },
    {
      "cell_type": "code",
      "metadata": {
        "id": "Ji6veA53F16g"
      },
      "source": [
        "df = pd.DataFrame(pd.read_excel(\"/content/Coaching logs Fall 2017- Spring 2021.xlsx\"))\n"
      ],
      "execution_count": 155,
      "outputs": []
    },
    {
      "cell_type": "code",
      "metadata": {
        "id": "XbyNagpk8g76"
      },
      "source": [
        "# print(\"Shape of the data (rows,cols) :\",df.shape)\n",
        "\n",
        "# columnNames = list(df.columns)\n",
        "# print(\"List of Column names :\",columnNames)\n",
        "\n",
        "# ListofDistricts = df['This is for . . .']\n",
        "\n",
        "# ListofDistricts.unique()\n",
        "\n",
        "# ListPerDistrict = {'Early - East' : [], 'Developing - West':[], 'Developing 1 - East':[],\n",
        "#        'Developing 2 - East' : [], 'Early - West' : [], 'Full - East' : [],\n",
        "#        'Full - West':[], 'Initial - East':[], 'Initial - West':[],\n",
        "#        'New Districts - East':[], 'New Districts - West':[]} \n",
        "\n",
        "# print(\"kesy\",ListPerDistrict.keys())\n",
        "# print(cols)\n",
        "# # for cols in ListofDistricts:\n",
        "# #   if cols in ListPerDistrict.keys():\n",
        "    \n",
        "# for index, row in df.iterrows():\n",
        "#   print(\"index \",index)\n",
        "#   # print(row)\n",
        "#   # print(\"Accessed row :\",row['This is for . . .'])\n",
        "#   # print(\"----------\")\n",
        "#   # print(\"accessed row value districts\")\n",
        "#   cols = row['This is for . . .']\n",
        "#   if index != 1404:\n",
        "#     if(cols == \"nan\"):\n",
        "#       print(\"dont do anything\")\n",
        "#       continue\n",
        "#     if(cols == 'New Districts - West'):\n",
        "#       ListPerDistrict[cols].append(df[~pd.isnull(df[cols])].iloc[index])\n",
        "#     else: \n",
        "#       # print(\"Accessing column\", (cols + \" Districts\"))df[\"column\"]\n",
        "#       print(\"Value to be appended\",df[~pd.isnull(df[cols + \" Districts\"])].iloc[index])\n",
        "#       ListPerDistrict[cols].append(df[~pd.isnull(df[cols + \" Districts\"])].iloc[index])\n",
        "#   # cols = rows['This is for . . .']\n",
        "#   # if cols in ListPerDistrict.keys():\n",
        "#   #   if(cols == 'New Districts - West'):\n",
        "#   #      ListPerDistrict[cols].append(df[cols])\n",
        "#   #   else: \n",
        "#   #      ListPerDistrict[cols].append(df[cols + \" Districts\"])"
      ],
      "execution_count": 156,
      "outputs": []
    },
    {
      "cell_type": "code",
      "metadata": {
        "id": "GEn25AYgJLs4"
      },
      "source": [
        "app = df.head(2008)\n",
        "app\n",
        "\n",
        "\n",
        "ListPerDistrict = {'Early - East' : [], 'Developing - West':[], 'Developing 1 - East':[],\n",
        "       'Developing 2 - East' : [], 'Early - West' : [], 'Full - East' : [],\n",
        "       'Full - West':[], 'Initial - East':[], 'Initial - West':[],\n",
        "       'New Districts - East':[], 'New Districts - West':[]} \n",
        "\n",
        "for index, row in app.iterrows():\n",
        "  # print(\"index \",index)\n",
        "  cols = row['This is for . . .']\n",
        "  if index != 1404:\n",
        "    if(cols == 'New Districts - West'):\n",
        "      # print(\"In New before :\",df[cols].iloc[index])\n",
        "      # print(\"boolean check in new districts west\",~pd.isnull(df[cols].iloc[index]))\n",
        "      if(~pd.isnull(df[cols].iloc[index])):  \n",
        "        # print(\"In New :\",df[cols].iloc[index])\n",
        "        # print(\"=-------------=---------------=\")\n",
        "        ListPerDistrict[cols].append(df[cols].iloc[index])\n",
        "    else: \n",
        "        # print(\"Accessing column\", (cols + \" Districts\"))df[\"column\"]\n",
        "        # print(\"Cols for error\" , cols)\n",
        "        # print(\"Value to be appended before : \",df[cols + \" Districts\"].iloc[index])\n",
        "        # print(\"boolean check \",~pd.isnull(df[cols + \" Districts\"].iloc[index]))\n",
        "         if(~pd.isnull(df[cols + \" Districts\"].iloc[index])):  \n",
        "            # print(\"Value to be appended\",df[cols + \" Districts\"].iloc[index])\n",
        "            # print(\"=-------------=---------------=\")\n",
        "            ListPerDistrict[cols].append(df[cols + \" Districts\"].iloc[index])"
      ],
      "execution_count": 159,
      "outputs": []
    },
    {
      "cell_type": "code",
      "metadata": {
        "colab": {
          "base_uri": "https://localhost:8080/"
        },
        "id": "E9BjHxshhT5h",
        "outputId": "2fb368f1-4530-4ea9-fd88-904c86e72703"
      },
      "source": [
        "# ListPerDistrict\n",
        "\n",
        "for key,values in ListPerDistrict.items():\n",
        "    # print(\"Key :\",key)\n",
        "    # print(\"----------------\")\n",
        "    # print(\"Value : \", values)\n",
        "    # print(\"****************\")\n",
        "    ListPerDistrict[key] = set(values)\n",
        "\n",
        "All_Districts_List = []\n",
        "for key,values in ListPerDistrict.items():\n",
        "  print(\"Number of Districts in \" , key , \" is :\", len(values))\n",
        "  All_Districts_List.append(list(values))\n",
        "\n",
        "\n",
        "List_Of_Districts_CWIS = sum(All_Districts_List, [])\n",
        "# List_Of_Districts_CWIS\n"
      ],
      "execution_count": 161,
      "outputs": [
        {
          "output_type": "stream",
          "name": "stdout",
          "text": [
            "Number of Districts in  Early - East  is : 25\n",
            "Number of Districts in  Developing - West  is : 24\n",
            "Number of Districts in  Developing 1 - East  is : 23\n",
            "Number of Districts in  Developing 2 - East  is : 15\n",
            "Number of Districts in  Early - West  is : 10\n",
            "Number of Districts in  Full - East  is : 5\n",
            "Number of Districts in  Full - West  is : 1\n",
            "Number of Districts in  Initial - East  is : 19\n",
            "Number of Districts in  Initial - West  is : 7\n",
            "Number of Districts in  New Districts - East  is : 18\n",
            "Number of Districts in  New Districts - West  is : 8\n"
          ]
        }
      ]
    },
    {
      "cell_type": "code",
      "metadata": {
        "colab": {
          "base_uri": "https://localhost:8080/"
        },
        "id": "r2AqE2US4O4Y",
        "outputId": "c840d999-18e1-4788-ecc6-ee8c7a5c391c"
      },
      "source": [
        "NCES_Data = pd.DataFrame(pd.read_excel(\"/content/Copy of ncesdata_ECCDA30A (1).xlsx\"))\n",
        "print(\"Shape of the data (rows,cols) :\",NCES_Data.shape)\n",
        "\n",
        "columnNames = list(NCES_Data.columns)\n",
        "print(\"List of Column names :\",columnNames)\n",
        "\n",
        "List_Of_Districts_NCES = list(NCES_Data['District'])\n",
        "print(\"Len before unique \" , len(List_Of_Districts_NCES))\n",
        "List_Of_Districts_NCES = set(List_Of_Districts_NCES)\n",
        "print(\"Len after unique NCES\" , len(List_Of_Districts_NCES))\n",
        "print(\"Len after unique CWIS\",len(List_Of_Districts_CWIS) )\n",
        "\n",
        "def intersection(lst1, lst2):\n",
        "    lst3 = [value for value in lst1 if value in lst2]\n",
        "    return lst3\n",
        "Common_Districts_NCES_and_CWIS = intersection(List_Of_Districts_CWIS,List_Of_Districts_NCES)\n",
        "print(\"Len of Common CWIS&NCES districts\",len(Common_Districts_NCES_and_CWIS) )\n",
        "\n",
        "Not_Common_Districts_NCES_and_CWIS = []\n",
        "for i in List_Of_Districts_CWIS:\n",
        "    if i not in List_Of_Districts_NCES:\n",
        "        Not_Common_Districts_NCES_and_CWIS.append(i)\n",
        "for i in List_Of_Districts_NCES:\n",
        "    if i not in List_Of_Districts_CWIS:\n",
        "        Not_Common_Districts_NCES_and_CWIS.append(i)\n",
        "\n",
        "Not_Common_Districts_NCES_and_CWIS\n",
        "print(\"Len of UnCommon CWIS&NCES districts\",len(Not_Common_Districts_NCES_and_CWIS) )\n"
      ],
      "execution_count": 162,
      "outputs": [
        {
          "output_type": "stream",
          "name": "stdout",
          "text": [
            "Shape of the data (rows,cols) : (2456, 26)\n",
            "List of Column names : ['NCES School ID', 'State School ID', 'NCES District ID', 'State District ID', 'Low Grade*', 'High Grade*', 'School Name', 'District', 'County Name*', 'Street Address', 'City', 'State', 'ZIP', 'ZIP 4-digit', 'Phone', 'Locale Code*', 'Locale*', 'Charter', 'Magnet*', 'Title I School*', 'Title 1 School Wide*', 'Students*', 'Teachers*', 'Student Teacher Ratio*', 'Free Lunch*', 'Reduced Lunch*']\n",
            "Len before unique  2456\n",
            "Len after unique NCES 564\n",
            "Len after unique CWIS 155\n",
            "Len of Common CWIS&NCES districts 137\n",
            "Len of UnCommon CWIS&NCES districts 445\n"
          ]
        }
      ]
    },
    {
      "cell_type": "code",
      "metadata": {
        "colab": {
          "base_uri": "https://localhost:8080/"
        },
        "id": "yvuhyXjEReDB",
        "outputId": "4ef81f03-17eb-4d2a-c010-b4550689b641"
      },
      "source": [
        "CWIScolumnNames = list(app.columns)\n",
        "for i in CWIScolumnNames:\n",
        "  print(i)\n"
      ],
      "execution_count": 166,
      "outputs": [
        {
          "output_type": "stream",
          "name": "stdout",
          "text": [
            "FormEmailer Status\n",
            "Timestamp\n",
            "Email Address\n",
            "Facilitator's Email address\n",
            "Date of Event/Visit \n",
            "Unnamed: 5\n",
            "Interaction Type\n",
            "This is for . . .\n",
            "Early - West Districts\n",
            "Which Early - West consultants were present at the meeting (Include Yourself):\n",
            "Developing - West Districts\n",
            "Which Developing - West consultants were present at the meeting (Include Yourself):\n",
            "Initial - West Districts\n",
            "Which Initial - West consultants were present at the meeting (Include Yourself):\n",
            "Full - West Districts\n",
            "Which Full - West consultants were present at the meeting (Include Yourself):\n",
            "New Districts - West\n",
            "Which New Districts - West consultants were present at the meeting (Include Yourself):\n",
            "Early - East Districts\n",
            "Which Early - East consultants were present at the meeting (Include Yourself):\n",
            "Developing 1 - East Districts\n",
            "Which Developing 1 - East  consultants were present at the meeting (Include Yourself):\n",
            "Developing 2 - East Districts\n",
            "Which Developing 2 - East consultants were present at the meeting (Include Yourself):\n",
            "Initial - East Districts\n",
            "Which Initial - East consultants were present at the meeting (Include Yourself):\n",
            "Full - East Districts\n",
            "Which Full - East consultants were present at the meeting (Include Yourself):\n",
            "New Districts - East Districts\n",
            "Which New Districts - East consultants were present at the meeting (Include Yourself):\n",
            "DISTRICTS\n",
            "Consultants\n",
            "District Leadership Team Members\n",
            "District Contact Person\n",
            "Building Leadership Team Members\n",
            "Other District Administrators\n",
            "Other Building Administrators\n",
            "Building-level Educators\n",
            "RPDC Director\n",
            "Area Supervisor\n",
            "Parents\n",
            "Any \"Other\" Participants not listed above\n",
            "Collaborative teams\n",
            "Evidence of collaborative teams and observable progress:\n",
            "Common formative assessment\n",
            "Evidence of common formative assessment and observable progress:\n",
            "Data-based decision making\n",
            "Evidence of data-based decision making and observable progress:\n",
            "Effective teaching/learning practices\n",
            "Evidence of effective teaching/learning practices and observable progress:\n",
            "Instructional Leadership\n",
            "Evidence of Instructional Leadership and observable progress:\n",
            "School-based implementation coaching\n",
            "Evidence of school-based implementation coaching and observable progress:\n",
            "Collective teacher efficacy\n",
            "Evidence of collective teacher efficacy and observable progress:\n",
            "MMD/DCI expectations/logistics/DESE specifics\n",
            "Evidence of MMD/DCI expectations/logistics/DESE specifics and observable progress:\n",
            "Alignment and systems planning\n",
            "Evidence of alignment and systems planning and observable progress:\n",
            "Other topics addressed not listed above:\n",
            "Other evidence of progress and observable progress: (describe)\n",
            "Practice profiles\n",
            "Self-assessment practice profile  (SAPP)\n",
            "Learning module materials (i.e. power points, handouts)\n",
            "DESE virtual learning platform\n",
            "Review of CFA data \n",
            "CWIS\n",
            "Resources shared and/or discussed other than those listed above:\n",
            "Unnamed: 69\n",
            "Next Scheduled Dates:\n",
            "Next steps for district:\n",
            "Follow-up items for CST:\n",
            "List Buildings participating in this event :\n",
            "Distance Learning\n",
            "Evidence of Distance Learning\n",
            "Unnamed: 76\n",
            "Virtual Learning Modules and/or PowerPoints\n",
            "Leadership for Effective Implementation of District-Wide Evidenced-Based Practices\n",
            "Evidence of Leadership for Effective Implementation of District-Wide Evidenced-Based Practices\n",
            "Event Duration\n"
          ]
        }
      ]
    },
    {
      "cell_type": "code",
      "metadata": {
        "id": "LJ9llgVRKtWW"
      },
      "source": [
        ""
      ],
      "execution_count": 141,
      "outputs": []
    },
    {
      "cell_type": "code",
      "metadata": {
        "id": "3b4-3-1QHEnO"
      },
      "source": [
        ""
      ],
      "execution_count": 138,
      "outputs": []
    }
  ]
}